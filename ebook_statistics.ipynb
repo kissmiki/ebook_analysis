{
  "nbformat": 4,
  "nbformat_minor": 0,
  "metadata": {
    "colab": {
      "name": "ebook_statistics.ipynb",
      "version": "0.3.2",
      "provenance": [],
      "collapsed_sections": [],
      "include_colab_link": true
    },
    "kernelspec": {
      "name": "python3",
      "display_name": "Python 3"
    }
  },
  "cells": [
    {
      "cell_type": "markdown",
      "metadata": {
        "id": "view-in-github",
        "colab_type": "text"
      },
      "source": [
        "<a href=\"https://colab.research.google.com/github/kissmiki/ebook_analysis/blob/master/ebook_statistics.ipynb\" target=\"_parent\"><img src=\"https://colab.research.google.com/assets/colab-badge.svg\" alt=\"Open In Colab\"/></a>"
      ]
    },
    {
      "cell_type": "code",
      "metadata": {
        "id": "XlZ_ns36aq86",
        "colab_type": "code",
        "outputId": "bbfc3c8c-7b81-458c-c0a0-9c6a2084ecf0",
        "colab": {
          "base_uri": "https://localhost:8080/",
          "height": 287
        }
      },
      "source": [
        "from collections import Counter\n",
        "from re import split\n",
        "import matplotlib.pyplot as plt\n",
        "from google.colab import files\n",
        "import io\n",
        "\n",
        "ebook_text = \"\"\" \n",
        "  one two, two? three. Three! three; $ dog's \"\"\"\n",
        "\n",
        "#files.upload returns a dictionary of the files which were uploaded. \n",
        "#The dictionary is keyed by the file name, the value is the data which was uploaded.\n",
        "uploaded = files.upload()\n",
        "\n",
        "for fn in uploaded.keys():\n",
        "    print('User uploaded file \"{name}\" with length {length} bytes'.format(name=fn, length=len(uploaded[fn])))\n",
        "    ebook_text = str(uploaded[fn], 'utf-8')\n",
        "\n",
        "ebook_text = ebook_text.lower()\n",
        "\n",
        "#words = split(\"[, \\-!?:,;.]+\", ebook_text)  #split the text into a list of words, use the specified separators\n",
        "words = split(\"\\W\", ebook_text)  #split the text into a list of words, use the specified separators\n",
        "\n",
        "unique_words = Counter(words)               #count the occurence of each unique element in the dictionary \n",
        "\n",
        "print ( 'The file contains {words} unique words'.format( words=len(unique_words)) )\n",
        "\n",
        "plt.bar(list(unique_words.keys()), unique_words.values(), color='g')\n",
        "plt.show()\n"
      ],
      "execution_count": 0,
      "outputs": [
        {
          "output_type": "stream",
          "text": [
            "The file contains 10 unique words\n"
          ],
          "name": "stdout"
        },
        {
          "output_type": "display_data",
          "data": {
            "image/png": "[encoded data removed]",
            "text/plain": [
              "<Figure size 432x288 with 1 Axes>"
            ]
          },
          "metadata": {
            "tags": []
          }
        }
      ]
    },
    {
      "cell_type": "code",
      "metadata": {
        "id": "-H6UcyBoh_X3",
        "colab_type": "code",
        "colab": {}
      },
      "source": [
        ""
      ],
      "execution_count": 0,
      "outputs": []
    }
  ]
}