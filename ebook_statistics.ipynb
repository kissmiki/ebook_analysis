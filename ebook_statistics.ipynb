{
  "nbformat": 4,
  "nbformat_minor": 0,
  "metadata": {
    "colab": {
      "name": "ebook_statistics.ipynb",
      "version": "0.3.2",
      "provenance": [],
      "collapsed_sections": [],
      "include_colab_link": true
    },
    "kernelspec": {
      "name": "python3",
      "display_name": "Python 3"
    }
  },
  "cells": [
    {
      "cell_type": "markdown",
      "metadata": {
        "id": "view-in-github",
        "colab_type": "text"
      },
      "source": [
        "<a href=\"https://colab.research.google.com/github/kissmiki/ebook_analysis/blob/master/ebook_statistics.ipynb\" target=\"_parent\"><img src=\"https://colab.research.google.com/assets/colab-badge.svg\" alt=\"Open In Colab\"/></a>"
      ]
    },
    {
      "cell_type": "code",
      "metadata": {
        "id": "x7iqQhQWqKH0",
        "colab_type": "code",
        "colab": {}
      },
      "source": [
        "from google.colab import drive\n",
        "drive.mount('/content/gdrive')"
      ],
      "execution_count": 0,
      "outputs": []
    },
    {
      "cell_type": "code",
      "metadata": {
        "id": "YPrmw4MIslbi",
        "colab_type": "code",
        "colab": {
          "base_uri": "https://localhost:8080/",
          "height": 35
        },
        "outputId": "6905cbac-993d-4c39-8c4f-812ffc1b8c9a"
      },
      "source": [
        "f = open(\"gdrive/My Drive/Colab Notebooks/mito_test.txt\")\n",
        "print(f.read())"
      ],
      "execution_count": 13,
      "outputs": [
        {
          "output_type": "stream",
          "text": [
            "mito test\n"
          ],
          "name": "stdout"
        }
      ]
    },
    {
      "cell_type": "code",
      "metadata": {
        "id": "XlZ_ns36aq86",
        "colab_type": "code",
        "outputId": "921c4ee8-5105-4ef5-be87-f1443a40e8ff",
        "colab": {
          "base_uri": "https://localhost:8080/",
          "height": 54
        }
      },
      "source": [
        "from collections import Counter\n",
        "from re import split\n",
        "#from google.colab import files\n",
        "\n",
        "ebook_text = \"\"\" \n",
        "  one two, two? three. Three! three; $ dog's \"\"\"\n",
        "\n",
        "#files.upload returns a dictionary of the files which were uploaded. \n",
        "#The dictionary is keyed by the file name, the value is the data which was uploaded.\n",
        "#uploaded = files.upload()\n",
        "\n",
        "#for fn in uploaded.keys():\n",
        "#    print('User uploaded file \"{name}\" with length {length} bytes'.format(name=fn, length=len(uploaded[fn])))\n",
        "#    ebook_text = str(uploaded[fn], 'utf-8')\n",
        "\n",
        "ebook_text = ebook_text.lower()\n",
        "\n",
        "#words = split(\"[, \\-!?:,;.]+\", ebook_text)  #split the text into a list of words, use the specified separators\n",
        "words = split(\"\\W\", ebook_text)  #split the text into a list of words, use the specified separators\n",
        "\n",
        "unique_words = Counter(words)               #count the occurence of each unique element in the dictionary \n",
        "\n",
        "print ( 'The file contains {words} unique words'.format( words=len(unique_words)) )\n",
        "\n"
      ],
      "execution_count": 3,
      "outputs": [
        {
          "output_type": "stream",
          "text": [
            "Drive already mounted at /content/gdrive; to attempt to forcibly remount, call drive.mount(\"/content/gdrive\", force_remount=True).\n",
            "The file contains 6 unique words\n"
          ],
          "name": "stdout"
        }
      ]
    },
    {
      "cell_type": "code",
      "metadata": {
        "id": "-H6UcyBoh_X3",
        "colab_type": "code",
        "colab": {}
      },
      "source": [
        ""
      ],
      "execution_count": 0,
      "outputs": []
    }
  ]
}